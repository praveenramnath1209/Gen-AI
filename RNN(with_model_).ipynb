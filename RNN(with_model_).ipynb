{
  "nbformat": 4,
  "nbformat_minor": 0,
  "metadata": {
    "colab": {
      "provenance": []
    },
    "kernelspec": {
      "name": "python3",
      "display_name": "Python 3"
    },
    "language_info": {
      "name": "python"
    }
  },
  "cells": [
    {
      "cell_type": "code",
      "execution_count": 6,
      "metadata": {
        "id": "odc730K3IiLg"
      },
      "outputs": [],
      "source": [
        "import keras\n",
        "import numpy as nb"
      ]
    },
    {
      "cell_type": "code",
      "source": [
        "from google.colab import drive\n",
        "drive.mount('/content/drive')"
      ],
      "metadata": {
        "colab": {
          "base_uri": "https://localhost:8080/"
        },
        "id": "Pij8M9M3IxfS",
        "outputId": "6e30d096-f966-400f-dc7d-6e3a002351ba"
      },
      "execution_count": 2,
      "outputs": [
        {
          "output_type": "stream",
          "name": "stdout",
          "text": [
            "Mounted at /content/drive\n"
          ]
        }
      ]
    },
    {
      "cell_type": "code",
      "source": [
        "from keras.models import load_model\n",
        "model = load_model('/content/drive/MyDrive/Models/RNN.keras')\n",
        "print(\"Model loaded successfully\")"
      ],
      "metadata": {
        "colab": {
          "base_uri": "https://localhost:8080/"
        },
        "id": "vF5dA5N2Ir4v",
        "outputId": "16a80f45-3da2-4223-fae3-cd93986b8145"
      },
      "execution_count": 15,
      "outputs": [
        {
          "output_type": "stream",
          "name": "stdout",
          "text": [
            "Model loaded successfully\n"
          ]
        }
      ]
    },
    {
      "cell_type": "code",
      "source": [
        "test_ip = nb.array([12,13,14])\n",
        "ws = 3\n",
        "test_ip = test_ip.reshape((1,ws,1))\n",
        "y_pred = model.predict(test_ip,verbose = 0)\n",
        "print(f\"Predicted number : {y_pred[0][0]:.2f}\")"
      ],
      "metadata": {
        "colab": {
          "base_uri": "https://localhost:8080/"
        },
        "id": "TfhbMEIZJF9U",
        "outputId": "40893978-7f26-4ab3-d0b3-576a5fdbbb27"
      },
      "execution_count": 18,
      "outputs": [
        {
          "output_type": "stream",
          "name": "stdout",
          "text": [
            "Predicted number : 15.00\n"
          ]
        }
      ]
    }
  ]
}