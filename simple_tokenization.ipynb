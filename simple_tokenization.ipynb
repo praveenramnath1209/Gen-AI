{
  "nbformat": 4,
  "nbformat_minor": 0,
  "metadata": {
    "colab": {
      "provenance": []
    },
    "kernelspec": {
      "name": "python3",
      "display_name": "Python 3"
    },
    "language_info": {
      "name": "python"
    }
  },
  "cells": [
    {
      "cell_type": "code",
      "execution_count": 2,
      "metadata": {
        "id": "z10qXD5EOgSN"
      },
      "outputs": [],
      "source": [
        "from tensorflow.keras.preprocessing.text import Tokenizer\n",
        "from tensorflow.keras.preprocessing.sequence import pad_sequences"
      ]
    },
    {
      "cell_type": "code",
      "source": [
        "text = [\n",
        "    \"I love  Python\",\n",
        "    \"Now we are learning gen-ai\",\n",
        "    \"tokenization is  basic technique \"\n",
        "]\n",
        "\n",
        "token = Tokenizer()\n",
        "token.fit_on_texts(text)\n",
        "seq = token.texts_to_sequences(text)\n",
        "pad_seq = pad_sequences(seq,padding = \"post\")"
      ],
      "metadata": {
        "id": "PNICG0G-O8bl"
      },
      "execution_count": 22,
      "outputs": []
    },
    {
      "cell_type": "code",
      "source": [
        "print(\"Word Index:\\n\",token.word_index)\n",
        "print(\"Sequence :\\n\",seq)\n",
        "print(\"Padded Sequence :\\n\",pad_seq)"
      ],
      "metadata": {
        "colab": {
          "base_uri": "https://localhost:8080/"
        },
        "id": "FnbJG269QPpT",
        "outputId": "e0259684-6382-4f7c-d28a-db1fd51ca2e9"
      },
      "execution_count": 23,
      "outputs": [
        {
          "output_type": "stream",
          "name": "stdout",
          "text": [
            "Word Index:\n",
            " {'i': 1, 'love': 2, 'python': 3, 'now': 4, 'we': 5, 'are': 6, 'learning': 7, 'gen': 8, 'ai': 9, 'tokenization': 10, 'is': 11, 'basic': 12, 'technique': 13}\n",
            "Sequence :\n",
            " [[1, 2, 3], [4, 5, 6, 7, 8, 9], [10, 11, 12, 13]]\n",
            "Padded Sequence :\n",
            " [[ 1  2  3  0  0  0]\n",
            " [ 4  5  6  7  8  9]\n",
            " [10 11 12 13  0  0]]\n"
          ]
        }
      ]
    }
  ]
}