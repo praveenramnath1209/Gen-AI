{
 "cells": [
  {
   "cell_type": "code",
   "execution_count": 1,
   "metadata": {
    "id": "DpEdW1YzZkb3"
   },
   "outputs": [],
   "source": [
    "from transformers import AutoTokenizer, AutoModelForSequenceClassification, pipeline\n",
    "import torch"
   ]
  },
  {
   "cell_type": "code",
   "execution_count": 2,
   "metadata": {
    "colab": {
     "base_uri": "https://localhost:8080/",
     "height": 301,
     "referenced_widgets": [
      "0ebd9f65e34d4a13a2436ec6a1284620",
      "21e7d3f9231a474e93190cd63e0c7d41",
      "65c0a9514b5a4b60aa3b4dce5aaeafd4",
      "de85264016a7430bb16031a1c77f6959",
      "f8df50a0865f4aefa794a24208bbe3e8",
      "133757a9c82b402790534fc6d4418581",
      "fac383d6f93545a9b291db70db0c19c3",
      "1fce486e4b6b4c6fa8b2c9807c68ad3f",
      "54abb38681024111bff990ebcbb78324",
      "808f2a072996487ebc9678116a8017a3",
      "cfcbc4ed410c47cd96fac173d26ba909",
      "a9dd692157b44042b18a35eedbd70ded",
      "40eb1a99036048cba40d40da6fbd857f",
      "9bfdc3d1285f49259afc8d947a461517",
      "09deb6f40c704050b95d2775fda56051",
      "92fcef0a753e42f28b860e80c4cd244c",
      "654e04233f0a446a9a499b3a4534f400",
      "0b67181917264f298f06c448f33d3c30",
      "494dd2b8c1a44042a23cfdb88ac2b7c1",
      "90fab0d403b64d96bb839c1b12f7e081",
      "7fbc9a9b8b6f4f2faeee5533cf537845",
      "7f45c59b759a4b1a85b9ee9475707911",
      "4495ca02016a4a36bba46e07b00938fe",
      "a56268411aea4e9e957888cd6fd574ba",
      "48d966a4c93343f3b911a1da7c89df53",
      "7fb3eb46d54244b9b781d4699869f0bf",
      "371a8020e56945b4bd143da070e3ae87",
      "d83a9e904eed4848a0a3bfedece0b78a",
      "b4ce831c7bfe440bb08f3f2947a3a86c",
      "db2adb47c52940fa9d01d195c5943f73",
      "c017dff404524afcaae6a1bdfd8e75e2",
      "6df9b926c0094ccb864ede9b86e4cf3c",
      "6c65eeb9f9e04f008c579b3ddf826823",
      "f89ff51ba3934b599991218c6259f144",
      "6e4907ded81c4f22b71e0ad8219cd9ff",
      "2304621110d14d64b976579abd82f8cd",
      "48d887f1dfed4d6d922292bd8647488b",
      "299c3d6a45a8445289c6711627536b92",
      "8929f752bef54f03b61990bbef053a83",
      "cc7dd63d46c74fbda69863d30134f003",
      "b5754676ffa64f16b68d5825ebb4f8f0",
      "b5184f8bb5404e67a728cdc6d3c6a772",
      "c416cc38af3f40d5b95765baaa836350",
      "01062ac6f24547238fdcd18456128e9f",
      "3f76d88646034a2b9a7d3c4f83d393d4",
      "93eb21373e0d48ea8c7b9f39258c7ef2",
      "5c7be90146d74ddeaf6421c6d7aad974",
      "0b4005a1d0e64bc6a5a5163ee41c66bc",
      "9a7cb919065245d2a5164bccb7b6a796",
      "fd1f4bdf522a45b2a4e6965c9d20d1d8",
      "37a69b95666a4f529b83cbc4ec462fdc",
      "2169605aa5bc41119e8d2b4d2c1f7adb",
      "f666ec2f881a465698f3866684f211b5",
      "e0f7284966c14cc78dd24952e2351fd9",
      "3c72920219e74869ad6c8a51999210a1"
     ]
    },
    "id": "OBNAfgYpZvY3",
    "outputId": "6c15df6f-1ba6-4ff3-f75d-94892922d574"
   },
   "outputs": [
    {
     "name": "stderr",
     "output_type": "stream",
     "text": [
      "/usr/local/lib/python3.11/dist-packages/huggingface_hub/utils/_auth.py:94: UserWarning: \n",
      "The secret `HF_TOKEN` does not exist in your Colab secrets.\n",
      "To authenticate with the Hugging Face Hub, create a token in your settings tab (https://huggingface.co/settings/tokens), set it as secret in your Google Colab and restart your session.\n",
      "You will be able to reuse this secret in all of your notebooks.\n",
      "Please note that authentication is recommended but still optional to access public models or datasets.\n",
      "  warnings.warn(\n"
     ]
    },
    {
     "data": {
      "application/vnd.jupyter.widget-view+json": {
       "model_id": "0ebd9f65e34d4a13a2436ec6a1284620",
       "version_major": 2,
       "version_minor": 0
      },
      "text/plain": [
       "config.json:   0%|          | 0.00/747 [00:00<?, ?B/s]"
      ]
     },
     "metadata": {},
     "output_type": "display_data"
    },
    {
     "data": {
      "application/vnd.jupyter.widget-view+json": {
       "model_id": "a9dd692157b44042b18a35eedbd70ded",
       "version_major": 2,
       "version_minor": 0
      },
      "text/plain": [
       "vocab.json: 0.00B [00:00, ?B/s]"
      ]
     },
     "metadata": {},
     "output_type": "display_data"
    },
    {
     "data": {
      "application/vnd.jupyter.widget-view+json": {
       "model_id": "4495ca02016a4a36bba46e07b00938fe",
       "version_major": 2,
       "version_minor": 0
      },
      "text/plain": [
       "merges.txt: 0.00B [00:00, ?B/s]"
      ]
     },
     "metadata": {},
     "output_type": "display_data"
    },
    {
     "data": {
      "application/vnd.jupyter.widget-view+json": {
       "model_id": "f89ff51ba3934b599991218c6259f144",
       "version_major": 2,
       "version_minor": 0
      },
      "text/plain": [
       "special_tokens_map.json:   0%|          | 0.00/150 [00:00<?, ?B/s]"
      ]
     },
     "metadata": {},
     "output_type": "display_data"
    },
    {
     "data": {
      "application/vnd.jupyter.widget-view+json": {
       "model_id": "3f76d88646034a2b9a7d3c4f83d393d4",
       "version_major": 2,
       "version_minor": 0
      },
      "text/plain": [
       "pytorch_model.bin:   0%|          | 0.00/499M [00:00<?, ?B/s]"
      ]
     },
     "metadata": {},
     "output_type": "display_data"
    }
   ],
   "source": [
    "model_name = \"cardiffnlp/twitter-roberta-base-sentiment\"\n",
    "tokenizer = AutoTokenizer.from_pretrained(model_name)\n",
    "model = AutoModelForSequenceClassification.from_pretrained(model_name)"
   ]
  },
  {
   "cell_type": "code",
   "execution_count": 3,
   "metadata": {
    "colab": {
     "base_uri": "https://localhost:8080/"
    },
    "id": "U2yN_U3wZ1fi",
    "outputId": "b165d4b5-cc3e-4022-b418-4d9353f394ae"
   },
   "outputs": [
    {
     "name": "stderr",
     "output_type": "stream",
     "text": [
      "Device set to use cpu\n"
     ]
    }
   ],
   "source": [
    "labels = ['Negative', 'Neutral', 'Positive']\n",
    "\n",
    "sentiment_pipeline = pipeline(\"sentiment-analysis\", model=model, tokenizer=tokenizer)"
   ]
  },
  {
   "cell_type": "code",
   "execution_count": 10,
   "metadata": {
    "colab": {
     "base_uri": "https://localhost:8080/"
    },
    "id": "vtioPQHdZ8_g",
    "outputId": "022946e9-4321-45b1-bdb7-2224a6c43c9d"
   },
   "outputs": [
    {
     "name": "stdout",
     "output_type": "stream",
     "text": [
      "Enter a social media post to analyze sentiment: i feel bad and good \n"
     ]
    }
   ],
   "source": [
    "user_input = input(\"Enter a social media post to analyze sentiment: \")\n",
    "\n",
    "result = sentiment_pipeline(user_input)[0]\n"
   ]
  },
  {
   "cell_type": "code",
   "execution_count": 11,
   "metadata": {
    "id": "55PasIN2Z_Nz"
   },
   "outputs": [],
   "source": [
    "label_index = int(result['label'].split('_')[-1])\n",
    "sentiment = labels[label_index]"
   ]
  },
  {
   "cell_type": "code",
   "execution_count": 13,
   "metadata": {
    "colab": {
     "base_uri": "https://localhost:8080/"
    },
    "id": "94Ez033-aB0c",
    "outputId": "049da932-c427-44a2-e4bd-335069ac63c9"
   },
   "outputs": [
    {
     "name": "stdout",
     "output_type": "stream",
     "text": [
      "\n",
      " Input: i feel bad and good \n",
      " Sentiment: Neutral\n",
      " Confidence Score: 0.41\n"
     ]
    }
   ],
   "source": [
    "print(f\"\\n Input: {user_input}\")\n",
    "print(f\" Sentiment: {sentiment}\")\n",
    "print(f\" Confidence Score: {result['score']:.2f}\")"
   ]
  }
 ],
 "metadata": {
  "colab": {
   "provenance": []
  },
  "kernelspec": {
   "display_name": "Python 3",
   "name": "python3"
  },
  "language_info": {
   "name": "python"
  }
 },
 "nbformat": 4,
 "nbformat_minor": 0
}
