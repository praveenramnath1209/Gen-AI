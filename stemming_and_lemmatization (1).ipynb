{
  "nbformat": 4,
  "nbformat_minor": 0,
  "metadata": {
    "colab": {
      "provenance": []
    },
    "kernelspec": {
      "name": "python3",
      "display_name": "Python 3"
    },
    "language_info": {
      "name": "python"
    }
  },
  "cells": [
    {
      "cell_type": "code",
      "execution_count": 20,
      "metadata": {
        "id": "PbdkekCOfCva"
      },
      "outputs": [],
      "source": [
        "import nltk\n",
        "from nltk.stem import PorterStemmer , WordNetLemmatizer\n",
        "import pandas as pd"
      ]
    },
    {
      "cell_type": "code",
      "source": [
        "nltk.download('punkt')\n",
        "nltk.download('wordnet')"
      ],
      "metadata": {
        "colab": {
          "base_uri": "https://localhost:8080/"
        },
        "id": "DFP30RlpoHwd",
        "outputId": "1a9845ba-acb9-4372-f688-fcc384773e45"
      },
      "execution_count": 16,
      "outputs": [
        {
          "output_type": "stream",
          "name": "stderr",
          "text": [
            "[nltk_data] Downloading package punkt to /root/nltk_data...\n",
            "[nltk_data]   Package punkt is already up-to-date!\n",
            "[nltk_data] Downloading package wordnet to /root/nltk_data...\n",
            "[nltk_data]   Package wordnet is already up-to-date!\n"
          ]
        },
        {
          "output_type": "execute_result",
          "data": {
            "text/plain": [
              "True"
            ]
          },
          "metadata": {},
          "execution_count": 16
        }
      ]
    },
    {
      "cell_type": "code",
      "source": [
        "with open('/content/sl_ip.txt', 'r') as f:\n",
        "    text_ip = f.read()"
      ],
      "metadata": {
        "id": "v6SYuUNbrjuq"
      },
      "execution_count": 29,
      "outputs": []
    },
    {
      "cell_type": "code",
      "source": [
        "stemmer = PorterStemmer()\n",
        "stemmed_words = [stemmer.stem(w) for w in text_ip.split()]\n",
        "print(\"Stemmed words :\",stemmed_words)\n",
        "\n"
      ],
      "metadata": {
        "colab": {
          "base_uri": "https://localhost:8080/"
        },
        "id": "Rnww3KWcoW1J",
        "outputId": "188a6a3d-be26-44f0-b1ed-3b2bac8bf767"
      },
      "execution_count": 32,
      "outputs": [
        {
          "output_type": "stream",
          "name": "stdout",
          "text": [
            "Stemmed words : ['the', 'children', 'were', 'happili', 'play', 'with', 'the', 'box', 'while', 'their', 'mother', 'were', 'organ', 'the', 'shelv', 'and', 'discuss', 'variou', 'solut', 'to', 'the', 'aris', 'problem', 'relat', 'to', 'their', 'studi', 'and', 'responsibilities.']\n"
          ]
        }
      ]
    },
    {
      "cell_type": "code",
      "source": [
        "lem = WordNetLemmatizer()\n",
        "lem_words = [lem.lemmatize(w) for w in text_ip.split()]\n",
        "print(\"Lemmetized words:\",lem_words)"
      ],
      "metadata": {
        "colab": {
          "base_uri": "https://localhost:8080/"
        },
        "id": "sj6DO02joo07",
        "outputId": "8649dc20-fa0a-4d25-ccc0-7a73d555783b"
      },
      "execution_count": 33,
      "outputs": [
        {
          "output_type": "stream",
          "name": "stdout",
          "text": [
            "Lemmetized words: ['The', 'child', 'were', 'happily', 'playing', 'with', 'the', 'box', 'while', 'their', 'mother', 'were', 'organizing', 'the', 'shelf', 'and', 'discussing', 'various', 'solution', 'to', 'the', 'arising', 'problem', 'related', 'to', 'their', 'study', 'and', 'responsibilities.']\n"
          ]
        }
      ]
    }
  ]
}