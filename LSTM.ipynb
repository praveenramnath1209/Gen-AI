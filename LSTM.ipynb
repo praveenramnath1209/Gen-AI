{
  "nbformat": 4,
  "nbformat_minor": 0,
  "metadata": {
    "colab": {
      "provenance": []
    },
    "kernelspec": {
      "name": "python3",
      "display_name": "Python 3"
    },
    "language_info": {
      "name": "python"
    }
  },
  "cells": [
    {
      "cell_type": "code",
      "execution_count": 13,
      "metadata": {
        "id": "IWV4rS139O0M"
      },
      "outputs": [],
      "source": [
        "import numpy as np\n",
        "from tensorflow.keras.models import Sequential\n",
        "from tensorflow.keras.layers import LSTM,Dense\n",
        "import matplotlib.pyplot as plt"
      ]
    },
    {
      "cell_type": "code",
      "source": [
        "seq = np.array([i for i in range(1,101)])\n",
        "ws = 3\n",
        "x= []\n",
        "y= []\n",
        "for i in range(len(seq)-ws):\n",
        "  x.append(seq[i:i+ws])\n",
        "  y.append(seq[i+ws])"
      ],
      "metadata": {
        "id": "2Vb43TXC9mrL"
      },
      "execution_count": 14,
      "outputs": []
    },
    {
      "cell_type": "code",
      "source": [
        "x = np.array(x)\n",
        "y = np.array(y)"
      ],
      "metadata": {
        "id": "pxEWUhJ1-ErS"
      },
      "execution_count": 15,
      "outputs": []
    },
    {
      "cell_type": "code",
      "source": [
        "x = x.reshape((x.shape[0],x.shape[1],1))"
      ],
      "metadata": {
        "id": "fgLMIZhb-M-m"
      },
      "execution_count": 16,
      "outputs": []
    },
    {
      "cell_type": "code",
      "source": [
        "model =  Sequential()\n",
        "model.add(LSTM(50,activation='relu',input_shape=(ws,1)))\n",
        "model.add(Dense(1))\n",
        "\n",
        "model.compile(optimizer = 'adam',loss='mse')"
      ],
      "metadata": {
        "colab": {
          "base_uri": "https://localhost:8080/"
        },
        "id": "kJQSduiq-aMn",
        "outputId": "eab38272-a555-46f4-8fab-725ca795117d"
      },
      "execution_count": 18,
      "outputs": [
        {
          "output_type": "stream",
          "name": "stderr",
          "text": [
            "/usr/local/lib/python3.11/dist-packages/keras/src/layers/rnn/rnn.py:200: UserWarning: Do not pass an `input_shape`/`input_dim` argument to a layer. When using Sequential models, prefer using an `Input(shape)` object as the first layer in the model instead.\n",
            "  super().__init__(**kwargs)\n"
          ]
        }
      ]
    },
    {
      "cell_type": "code",
      "source": [
        "model.fit(x,y,epochs = 1500,verbose = 0)\n",
        "print(\"Training complete\")"
      ],
      "metadata": {
        "colab": {
          "base_uri": "https://localhost:8080/"
        },
        "id": "aQVz5TRI-z9b",
        "outputId": "fe4991a2-5301-4927-89c2-c6ac7c3157c2"
      },
      "execution_count": 22,
      "outputs": [
        {
          "output_type": "stream",
          "name": "stdout",
          "text": [
            "Training complete\n"
          ]
        }
      ]
    },
    {
      "cell_type": "code",
      "source": [
        "test_ip = np.array([9,10,11])\n",
        "test_ip = test_ip.reshape((1,ws,1))\n",
        "y_pred = model.predict(test_ip,verbose = 0)\n",
        "print(f\"Predicted number : {y_pred[0][0]:.2f}\")"
      ],
      "metadata": {
        "colab": {
          "base_uri": "https://localhost:8080/"
        },
        "id": "NTOHCHQQ_QMg",
        "outputId": "05193075-c5b1-414e-f583-df7c2a0fae01"
      },
      "execution_count": 23,
      "outputs": [
        {
          "output_type": "stream",
          "name": "stdout",
          "text": [
            "Predicted number : 12.00\n"
          ]
        }
      ]
    },
    {
      "cell_type": "code",
      "source": [
        "y_pred = model.predict(x)\n",
        "plt.plot(y,label='True Values')\n",
        "plt.plot(y_pred,label = 'Predicted')\n",
        "plt.legend()\n",
        "plt.title(\"Prediction Vs True Values\")\n",
        "plt.show()"
      ],
      "metadata": {
        "id": "xloInYgSBI4h",
        "colab": {
          "base_uri": "https://localhost:8080/",
          "height": 469
        },
        "outputId": "1876efd7-fbcd-4a3b-acf0-fb5a5c60bbe9"
      },
      "execution_count": 24,
      "outputs": [
        {
          "output_type": "stream",
          "name": "stdout",
          "text": [
            "\u001b[1m4/4\u001b[0m \u001b[32m━━━━━━━━━━━━━━━━━━━━\u001b[0m\u001b[37m\u001b[0m \u001b[1m0s\u001b[0m 11ms/step\n"
          ]
        },
        {
          "output_type": "display_data",
          "data": {
            "text/plain": [
              "<Figure size 640x480 with 1 Axes>"
            ],
            "image/png": "[encoded data removed]"
          },
          "metadata": {}
        }
      ]
    }
  ]
}