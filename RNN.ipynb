{
  "nbformat": 4,
  "nbformat_minor": 0,
  "metadata": {
    "colab": {
      "provenance": []
    },
    "kernelspec": {
      "name": "python3",
      "display_name": "Python 3"
    },
    "language_info": {
      "name": "python"
    }
  },
  "cells": [
    {
      "cell_type": "code",
      "execution_count": 2,
      "metadata": {
        "id": "IWV4rS139O0M"
      },
      "outputs": [],
      "source": [
        "import numpy as np\n",
        "from tensorflow.keras.models import Sequential\n",
        "from tensorflow.keras.layers import SimpleRNN,Dense\n",
        "import matplotlib.pyplot as plt"
      ]
    },
    {
      "cell_type": "code",
      "source": [
        "seq = np.array([i for i in range(1,101)])\n",
        "ws = 3\n",
        "x= []\n",
        "y= []\n",
        "for i in range(len(seq)-ws):\n",
        "  x.append(seq[i:i+ws])\n",
        "  y.append(seq[i+ws])"
      ],
      "metadata": {
        "id": "2Vb43TXC9mrL"
      },
      "execution_count": 3,
      "outputs": []
    },
    {
      "cell_type": "code",
      "source": [
        "x = np.array(x)\n",
        "y = np.array(y)"
      ],
      "metadata": {
        "id": "pxEWUhJ1-ErS"
      },
      "execution_count": 4,
      "outputs": []
    },
    {
      "cell_type": "code",
      "source": [
        "x = x.reshape((x.shape[0],x.shape[1],1))"
      ],
      "metadata": {
        "id": "fgLMIZhb-M-m"
      },
      "execution_count": 5,
      "outputs": []
    },
    {
      "cell_type": "code",
      "source": [
        "model =  Sequential()\n",
        "model.add(SimpleRNN(50,activation='relu',input_shape=(ws,1)))\n",
        "model.add(Dense(1))\n",
        "\n",
        "model.compile(optimizer = 'adam',loss='mse')"
      ],
      "metadata": {
        "colab": {
          "base_uri": "https://localhost:8080/"
        },
        "id": "kJQSduiq-aMn",
        "outputId": "99576cac-c500-4b24-83d5-95d156022202"
      },
      "execution_count": 8,
      "outputs": [
        {
          "output_type": "stream",
          "name": "stderr",
          "text": [
            "/usr/local/lib/python3.11/dist-packages/keras/src/layers/rnn/rnn.py:200: UserWarning: Do not pass an `input_shape`/`input_dim` argument to a layer. When using Sequential models, prefer using an `Input(shape)` object as the first layer in the model instead.\n",
            "  super().__init__(**kwargs)\n"
          ]
        }
      ]
    },
    {
      "cell_type": "code",
      "source": [
        "model.fit(x,y,epochs = 1000,verbose = 0)\n",
        "print(\"Training complete\")"
      ],
      "metadata": {
        "colab": {
          "base_uri": "https://localhost:8080/"
        },
        "id": "aQVz5TRI-z9b",
        "outputId": "38b5caf5-9ac4-4b91-f76e-c8388d8a061a"
      },
      "execution_count": 9,
      "outputs": [
        {
          "output_type": "stream",
          "name": "stdout",
          "text": [
            "Training complete\n"
          ]
        }
      ]
    },
    {
      "cell_type": "code",
      "source": [
        "test_ip = np.array([9,10,11])\n",
        "test_ip = test_ip.reshape((1,ws,1))\n",
        "y_pred = model.predict(test_ip,verbose = 0)\n",
        "print(f\"Predicted number : {y_pred[0][0]:.2f}\")"
      ],
      "metadata": {
        "colab": {
          "base_uri": "https://localhost:8080/"
        },
        "id": "NTOHCHQQ_QMg",
        "outputId": "c8aee614-37d9-4406-85ec-31d4ac84d7b9"
      },
      "execution_count": 12,
      "outputs": [
        {
          "output_type": "stream",
          "name": "stdout",
          "text": [
            "Predicted number : 11.97\n"
          ]
        }
      ]
    }
  ]
}